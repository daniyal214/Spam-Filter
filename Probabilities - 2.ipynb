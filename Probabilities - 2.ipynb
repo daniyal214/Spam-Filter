{
 "cells": [
  {
   "cell_type": "code",
   "execution_count": 1,
   "metadata": {},
   "outputs": [],
   "source": [
    "import pandas as pd\n",
    "import numpy as np\n",
    "import matplotlib.pyplot as plt"
   ]
  },
  {
   "cell_type": "code",
   "execution_count": null,
   "metadata": {},
   "outputs": [],
   "source": [
    "sample space = {'HH', 'HT', 'TH', 'TT'}\n",
    "\n",
    "event = {'HT'}\n",
    "\n",
    "P(HT) = 1/4 => 0.25"
   ]
  },
  {
   "cell_type": "code",
   "execution_count": null,
   "metadata": {},
   "outputs": [],
   "source": [
    "P(AnB) = P(A)*P(B) #Multiplication Rule"
   ]
  },
  {
   "cell_type": "code",
   "execution_count": null,
   "metadata": {},
   "outputs": [],
   "source": [
    "P(HnT) = 1/2 * 1/2"
   ]
  },
  {
   "cell_type": "code",
   "execution_count": null,
   "metadata": {},
   "outputs": [],
   "source": [
    "event1 coin toss\n",
    "event2 die roll\n",
    "event3 52 Cards  -------> Composite events happening at a time"
   ]
  },
  {
   "cell_type": "code",
   "execution_count": null,
   "metadata": {},
   "outputs": [],
   "source": [
    "ev1 1 card from 52 cards deck\n",
    "ev2 1 card from 52 cards deck\n",
    "ev3 1 card from 52 cards deck"
   ]
  },
  {
   "cell_type": "code",
   "execution_count": null,
   "metadata": {},
   "outputs": [],
   "source": [
    "#below is mutually non exclusive and independent event\n",
    "# or multiplication rule\n",
    "P(e1ne2ne3) = P(e1)*P(e2)*P(e3)"
   ]
  },
  {
   "cell_type": "code",
   "execution_count": null,
   "metadata": {},
   "outputs": [],
   "source": []
  },
  {
   "cell_type": "code",
   "execution_count": null,
   "metadata": {},
   "outputs": [],
   "source": [
    "1/52*1/52*1/53"
   ]
  },
  {
   "cell_type": "code",
   "execution_count": 2,
   "metadata": {},
   "outputs": [],
   "source": [
    "# mutually exclusive --> cannot happen at a time\n",
    "# mutually inexclusive --> can happen at time\n",
    "#   ---> can be dependent or independent"
   ]
  },
  {
   "cell_type": "code",
   "execution_count": null,
   "metadata": {},
   "outputs": [],
   "source": [
    "#below is mutually non exclusive and dependent event\n",
    "\n",
    "P(AnB) = P(A)*P(B|A) # P(B|A) is a Conditional Probability\n",
    "\n",
    "\n",
    "P(AnBnC) = P(A)*P(B|A)*P(C|AnB) #mult rule"
   ]
  },
  {
   "cell_type": "code",
   "execution_count": null,
   "metadata": {},
   "outputs": [],
   "source": [
    "a = {1,2,3}\n",
    "b = {2,3,4,5,6}\n",
    "anb = {2,3}\n",
    "bna = {2,3}"
   ]
  },
  {
   "cell_type": "code",
   "execution_count": null,
   "metadata": {},
   "outputs": [],
   "source": [
    "P(AnB) = P(A)*P(B|A) # or P(B)*P(A|B)\n",
    "P(BnA) = P(B)*P(A|B)\n",
    "\n",
    "P(AnB) == P(BnA)"
   ]
  },
  {
   "cell_type": "code",
   "execution_count": null,
   "metadata": {},
   "outputs": [],
   "source": [
    "P(A|B) = P(BnA) / P(B)\n",
    "P(B|A) = P(AnB) / P(A)\n",
    "\n",
    "# P(A|B) not equals to P(B|A)"
   ]
  },
  {
   "cell_type": "code",
   "execution_count": null,
   "metadata": {},
   "outputs": [],
   "source": []
  },
  {
   "cell_type": "markdown",
   "metadata": {},
   "source": [
    "## Bayes Theorem"
   ]
  },
  {
   "cell_type": "code",
   "execution_count": null,
   "metadata": {},
   "outputs": [],
   "source": [
    "P(A|B) = P(BnA) / P(B)\n",
    "\n",
    "\n",
    "P(B|A) = P(AnB) / P(A)\n",
    "P(B|A) = P(A)*P(B|A) / P(A)"
   ]
  },
  {
   "cell_type": "code",
   "execution_count": null,
   "metadata": {},
   "outputs": [],
   "source": [
    "PIA, Air Blue, Shaheen\n",
    "# assume only 3 flights fly\n",
    "so total possible outcomes will be 3\n",
    "\n",
    "#assume you travel 70% PIA, 20% Air B, 10% Shaheen\n",
    "# PIA delay 3%, 5%, 12%\n",
    "   ----> this is basically\n",
    "    -----> P(delay|PIA) = 3%\n",
    "    -----> P(delay|Air B) = 5%\n",
    "    -----> P(delay|Shaheen) = 0.12\n",
    "    \n",
    "P(PIA) = 0.7\n",
    "P(Air B) = 0.2\n",
    "P(Shaheen) = 0.1"
   ]
  },
  {
   "cell_type": "code",
   "execution_count": null,
   "metadata": {},
   "outputs": [],
   "source": [
    "#total probability of delay\n",
    "\n",
    "P(delay) = P(PIA n delay) + P(Air n delay) + \n",
    "           P(Shaheen n delay)\n",
    "        \n",
    "         = 0.7*0.03 + 0.2*0.05 + 0.1*0.12\n",
    "            = 4.3%\n",
    "    # Law of Total Probability"
   ]
  },
  {
   "cell_type": "code",
   "execution_count": null,
   "metadata": {},
   "outputs": [],
   "source": [
    "# Bayes theorem\n",
    "\n",
    "\n",
    "P(A|B) = P(BnA) / P(B)\n",
    "P(A|B) = P(A)*P(B|A) / P(B)\n",
    "P(A|B) = P(A)*P(B|A) / (P(AnB) + P(AcnB) )\n",
    "P(A|B) = P(A)*P(B|A) / (P(A)*P(B|A) + P(AcnB) )\n",
    "P(A|B) = P(A)*P(B|A) / (P(A)*P(B|A) + (P(Ac) * P(B|Ac))) "
   ]
  },
  {
   "cell_type": "code",
   "execution_count": null,
   "metadata": {},
   "outputs": [],
   "source": []
  },
  {
   "cell_type": "code",
   "execution_count": null,
   "metadata": {},
   "outputs": [],
   "source": [
    "P(Spam_message|newmsg) = P(spam)*P(new_msg|spam) / P(spam)*P(new_msg|spam)\n",
    "                           + (P(spamc) * P(newmsg|spamc))\n"
   ]
  },
  {
   "cell_type": "code",
   "execution_count": null,
   "metadata": {},
   "outputs": [],
   "source": [
    "p(spam|newmsg) > P(spamc|newmsg)\n",
    "\n",
    "spam"
   ]
  },
  {
   "cell_type": "code",
   "execution_count": null,
   "metadata": {},
   "outputs": [],
   "source": [
    "p(spam|newmsg) < P(spamc|newmsg)\n",
    "\n",
    "inbox"
   ]
  },
  {
   "cell_type": "markdown",
   "metadata": {},
   "source": [
    "## Naive Bayes Algo"
   ]
  },
  {
   "cell_type": "code",
   "execution_count": null,
   "metadata": {},
   "outputs": [],
   "source": [
    "#Since denominator is same in both\n",
    "\n",
    "P(Spam_message|newmsg) ∝ P(spam)*P(new_msg|spam) \n",
    "\n",
    "P(Spamc|newmsg) ∝ P(spamc)*P(new_msg|spamc) "
   ]
  },
  {
   "cell_type": "code",
   "execution_count": null,
   "metadata": {},
   "outputs": [],
   "source": [
    "Label               SMS\n",
    "non spam         secret party at my home\n",
    "spam             secrett money secret scret\n",
    "spam             money secret place\n",
    "non spam         you know the secret"
   ]
  },
  {
   "cell_type": "code",
   "execution_count": null,
   "metadata": {},
   "outputs": [],
   "source": []
  },
  {
   "cell_type": "code",
   "execution_count": null,
   "metadata": {},
   "outputs": [],
   "source": [
    "Label               SMS\n",
    "non spam         secret party at my home\n",
    "spam             secrett money secret scret\n",
    "spam             money secret place\n",
    "non spam         you know the secret\n",
    "?"
   ]
  },
  {
   "cell_type": "code",
   "execution_count": null,
   "metadata": {},
   "outputs": [],
   "source": [
    "P(spam|secret code to unlock the money) = ?"
   ]
  },
  {
   "cell_type": "code",
   "execution_count": null,
   "metadata": {},
   "outputs": [],
   "source": [
    "P(Spam_message|newmsg) ∝ P(spam)*P(new_msg|spam) \n",
    "P(Spamc|newmsg) ∝ P(spamc)*P(new_msg|spamc) \n",
    "\n",
    "\n",
    "\n",
    "P(secret code to unlock the money|spam) = P(secret|spam)*P(code|spam)*P(unlock|spam)*P(the|spam)*P(money|spam)\n",
    "\n",
    "P(secret code to unlock the money|spamc) = P(secret|spamc)*P(code|spamc)*P(unlock|spamc)*P(the|spamc)*P(money|spamc)\n",
    "\n",
    "P(spam) = 2/4\n",
    "P(spamc) = 2/4"
   ]
  },
  {
   "cell_type": "code",
   "execution_count": null,
   "metadata": {},
   "outputs": [],
   "source": [
    "P(secret code to unlock the money|spam) = 4/7 * 0/7 * 0/7 * 0/7 * 0/7 * 2/7\n",
    "\n",
    "P(secret code to unlock the money|spamc) = 2/9 * 0/9 * 0/9 * 0/9 * 1/9 * 0/9\n",
    "\n",
    "\n"
   ]
  },
  {
   "cell_type": "code",
   "execution_count": null,
   "metadata": {},
   "outputs": [],
   "source": [
    "# unique words --> secret party at my place money you know the"
   ]
  },
  {
   "cell_type": "code",
   "execution_count": null,
   "metadata": {},
   "outputs": [],
   "source": []
  },
  {
   "cell_type": "code",
   "execution_count": null,
   "metadata": {},
   "outputs": [],
   "source": []
  },
  {
   "cell_type": "code",
   "execution_count": null,
   "metadata": {},
   "outputs": [],
   "source": [
    "# Ignore words which are not in unique words(vocabulary)\n",
    "# like ----> code"
   ]
  },
  {
   "cell_type": "code",
   "execution_count": null,
   "metadata": {},
   "outputs": [],
   "source": [
    "P(secret code to unlock the money|spam) = 4/7 * 0/7 * 0/7 * 0/7 * 0/7 * 2/7\n",
    "\n",
    "P(secret code to unlock the money|spamc) = 2/9 * 0/9 * 0/9 * 0/9 * 1/9 * 0/9\n",
    "\n",
    "\n",
    "# unique words --> secret party at my place money you know the\n",
    "\n",
    "\n",
    "#Modified\n",
    "P(secret code to unlock the money|spam) = 4/7 *  0/7 (the) * 2/7\n",
    "\n",
    "P(secret code to unlock the money|spamc) = 2/9 * 1/9 * 0/9 (money)\n"
   ]
  },
  {
   "cell_type": "markdown",
   "metadata": {},
   "source": [
    "### Additive Smoothing"
   ]
  },
  {
   "cell_type": "code",
   "execution_count": null,
   "metadata": {},
   "outputs": [],
   "source": [
    "# So what to do now\n",
    "\n",
    "# Additive smoothing  --> alpha\n",
    "\n",
    "0+1 / (7+(1*9))  ---> laplace smoothing\n",
    "                 ---> lidsone smoothing (when taking less than 1)\n",
    "\n",
    "nword + alpha/(nspam + alpha*num_vocab)"
   ]
  },
  {
   "cell_type": "code",
   "execution_count": null,
   "metadata": {},
   "outputs": [],
   "source": [
    "P(secret code to unlock the money|spam) = 4+1/16 *  0+1/16 (the) * 2+1/16\n",
    "P(secret code to unlock the money|spamc) = 2+1/18 * 1+1/18 * 0+1/18 (money)\n",
    "\n",
    "\n",
    "P(spam) = 2/4"
   ]
  },
  {
   "cell_type": "code",
   "execution_count": null,
   "metadata": {},
   "outputs": [],
   "source": []
  },
  {
   "cell_type": "code",
   "execution_count": null,
   "metadata": {},
   "outputs": [],
   "source": [
    "P(Spam_message|newmsg) = 2/4 * (4+1/16 *  0+1/16 * 2+1/16)\n",
    "                       = 0.00183\n",
    "\n",
    "P(Spam_message|newmsg) = 2/4 * (2+1/18 * 1+1/18 * 0+1/18)\n",
    "                       = 0.0005\n",
    "    \n",
    "    \n",
    "classify = 'Spam'"
   ]
  },
  {
   "cell_type": "code",
   "execution_count": null,
   "metadata": {},
   "outputs": [],
   "source": []
  },
  {
   "cell_type": "code",
   "execution_count": null,
   "metadata": {},
   "outputs": [],
   "source": []
  },
  {
   "cell_type": "code",
   "execution_count": null,
   "metadata": {},
   "outputs": [],
   "source": []
  },
  {
   "cell_type": "code",
   "execution_count": null,
   "metadata": {},
   "outputs": [],
   "source": []
  }
 ],
 "metadata": {
  "kernelspec": {
   "display_name": "Python 3",
   "language": "python",
   "name": "python3"
  },
  "language_info": {
   "codemirror_mode": {
    "name": "ipython",
    "version": 3
   },
   "file_extension": ".py",
   "mimetype": "text/x-python",
   "name": "python",
   "nbconvert_exporter": "python",
   "pygments_lexer": "ipython3",
   "version": "3.8.5"
  }
 },
 "nbformat": 4,
 "nbformat_minor": 4
}
